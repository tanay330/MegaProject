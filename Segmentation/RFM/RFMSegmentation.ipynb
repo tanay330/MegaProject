{
 "cells": [
  {
   "cell_type": "code",
   "execution_count": 1,
   "metadata": {
    "_cell_guid": "fb109ad4-cdae-4e93-be9a-cff4f04dcfc4",
    "_uuid": "2b3bec228338f1149d7f9673ed7304064fa0d707"
   },
   "outputs": [],
   "source": [
    "# This Python 3 environment comes with many helpful analytics libraries installed\n",
    "# It is defined by the kaggle/python docker image: https://github.com/kaggle/docker-python\n",
    "# For example, here's several helpful packages to load in \n",
    "\n",
    "import numpy as np # linear algebra\n",
    "import pandas as pd # data processing, CSV file I/O (e.g. pd.read_csv)\n",
    "\n",
    "# Input data files are available in the \"../input/\" directory.\n",
    "\n",
    "import time, warnings\n",
    "import datetime as dt\n",
    "\n",
    "#visualizations\n",
    "import matplotlib.pyplot as plt\n",
    "from pandas.plotting import scatter_matrix\n",
    "%matplotlib inline\n",
    "import seaborn as sns\n",
    "\n",
    "warnings.filterwarnings(\"ignore\")"
   ]
  },
  {
   "cell_type": "markdown",
   "metadata": {
    "_uuid": "e137fc6ce9df703c09de36e7d82ff59305b64b57"
   },
   "source": [
    "# Get the Data"
   ]
  },
  {
   "cell_type": "code",
   "execution_count": 2,
   "metadata": {
    "_uuid": "29f4d8a264683adbc8960d28b5fd3a3d2b476e7b",
    "execution": {
     "iopub.execute_input": "2023-12-12T12:29:42.737357Z",
     "iopub.status.busy": "2023-12-12T12:29:42.734902Z",
     "iopub.status.idle": "2023-12-12T12:29:44.208762Z",
     "shell.execute_reply": "2023-12-12T12:29:44.208058Z",
     "shell.execute_reply.started": "2023-12-12T12:29:42.737284Z"
    }
   },
   "outputs": [
    {
     "data": {
      "text/html": [
       "<div>\n",
       "<style scoped>\n",
       "    .dataframe tbody tr th:only-of-type {\n",
       "        vertical-align: middle;\n",
       "    }\n",
       "\n",
       "    .dataframe tbody tr th {\n",
       "        vertical-align: top;\n",
       "    }\n",
       "\n",
       "    .dataframe thead th {\n",
       "        text-align: right;\n",
       "    }\n",
       "</style>\n",
       "<table border=\"1\" class=\"dataframe\">\n",
       "  <thead>\n",
       "    <tr style=\"text-align: right;\">\n",
       "      <th></th>\n",
       "      <th>InvoiceNo</th>\n",
       "      <th>StockCode</th>\n",
       "      <th>Description</th>\n",
       "      <th>Quantity</th>\n",
       "      <th>InvoiceDate</th>\n",
       "      <th>UnitPrice</th>\n",
       "      <th>CustomerID</th>\n",
       "      <th>Country</th>\n",
       "    </tr>\n",
       "  </thead>\n",
       "  <tbody>\n",
       "    <tr>\n",
       "      <th>0</th>\n",
       "      <td>536365</td>\n",
       "      <td>85123A</td>\n",
       "      <td>WHITE HANGING HEART T-LIGHT HOLDER</td>\n",
       "      <td>6</td>\n",
       "      <td>12/1/2010 8:26</td>\n",
       "      <td>2.55</td>\n",
       "      <td>17850</td>\n",
       "      <td>United Kingdom</td>\n",
       "    </tr>\n",
       "    <tr>\n",
       "      <th>1</th>\n",
       "      <td>536365</td>\n",
       "      <td>71053</td>\n",
       "      <td>WHITE METAL LANTERN</td>\n",
       "      <td>6</td>\n",
       "      <td>12/1/2010 8:26</td>\n",
       "      <td>3.39</td>\n",
       "      <td>17850</td>\n",
       "      <td>United Kingdom</td>\n",
       "    </tr>\n",
       "    <tr>\n",
       "      <th>2</th>\n",
       "      <td>536365</td>\n",
       "      <td>84406B</td>\n",
       "      <td>CREAM CUPID HEARTS COAT HANGER</td>\n",
       "      <td>8</td>\n",
       "      <td>12/1/2010 8:26</td>\n",
       "      <td>2.75</td>\n",
       "      <td>17850</td>\n",
       "      <td>United Kingdom</td>\n",
       "    </tr>\n",
       "    <tr>\n",
       "      <th>3</th>\n",
       "      <td>536365</td>\n",
       "      <td>84029G</td>\n",
       "      <td>KNITTED UNION FLAG HOT WATER BOTTLE</td>\n",
       "      <td>6</td>\n",
       "      <td>12/1/2010 8:26</td>\n",
       "      <td>3.39</td>\n",
       "      <td>17850</td>\n",
       "      <td>United Kingdom</td>\n",
       "    </tr>\n",
       "    <tr>\n",
       "      <th>4</th>\n",
       "      <td>536365</td>\n",
       "      <td>84029E</td>\n",
       "      <td>RED WOOLLY HOTTIE WHITE HEART.</td>\n",
       "      <td>6</td>\n",
       "      <td>12/1/2010 8:26</td>\n",
       "      <td>3.39</td>\n",
       "      <td>17850</td>\n",
       "      <td>United Kingdom</td>\n",
       "    </tr>\n",
       "  </tbody>\n",
       "</table>\n",
       "</div>"
      ],
      "text/plain": [
       "  InvoiceNo StockCode                          Description  Quantity  \\\n",
       "0    536365    85123A   WHITE HANGING HEART T-LIGHT HOLDER         6   \n",
       "1    536365     71053                  WHITE METAL LANTERN         6   \n",
       "2    536365    84406B       CREAM CUPID HEARTS COAT HANGER         8   \n",
       "3    536365    84029G  KNITTED UNION FLAG HOT WATER BOTTLE         6   \n",
       "4    536365    84029E       RED WOOLLY HOTTIE WHITE HEART.         6   \n",
       "\n",
       "      InvoiceDate  UnitPrice CustomerID         Country  \n",
       "0  12/1/2010 8:26       2.55      17850  United Kingdom  \n",
       "1  12/1/2010 8:26       3.39      17850  United Kingdom  \n",
       "2  12/1/2010 8:26       2.75      17850  United Kingdom  \n",
       "3  12/1/2010 8:26       3.39      17850  United Kingdom  \n",
       "4  12/1/2010 8:26       3.39      17850  United Kingdom  "
      ]
     },
     "execution_count": 2,
     "metadata": {},
     "output_type": "execute_result"
    }
   ],
   "source": [
    "#load the dataset\n",
    "retail_df = pd.read_csv('data.csv',encoding=\"ISO-8859-1\",dtype={'CustomerID': str,'InvoiceID': str})\n",
    "retail_df.head()"
   ]
  },
  {
   "cell_type": "markdown",
   "metadata": {
    "_uuid": "099bf79086b0d6952551457a1a634788d5744358"
   },
   "source": [
    "# Prepare the Data"
   ]
  },
  {
   "cell_type": "markdown",
   "metadata": {
    "_uuid": "c275644686ab6b4348125a5d11db4faf3ee456cf"
   },
   "source": [
    "\n",
    "As customer clusters may vary by geography, I’ll restrict the data to only United Kingdom customers, which contains most of our customers historical data."
   ]
  },
  {
   "cell_type": "code",
   "execution_count": 3,
   "metadata": {
    "_uuid": "d1900198b2d6e77dd792bc419b966ac7d0542d58"
   },
   "outputs": [
    {
     "data": {
      "text/plain": [
       "(495478, 8)"
      ]
     },
     "execution_count": 3,
     "metadata": {},
     "output_type": "execute_result"
    }
   ],
   "source": [
    "retail_uk = retail_df[retail_df['Country']=='United Kingdom']\n",
    "#check the shape\n",
    "retail_uk.shape"
   ]
  },
  {
   "cell_type": "code",
   "execution_count": 4,
   "metadata": {
    "_uuid": "40481a3b8ec945bf95788f0f1a65fe0c616b1ceb"
   },
   "outputs": [
    {
     "data": {
      "text/plain": [
       "(486286, 8)"
      ]
     },
     "execution_count": 4,
     "metadata": {},
     "output_type": "execute_result"
    }
   ],
   "source": [
    "#remove canceled orders\n",
    "retail_uk = retail_uk[retail_uk['Quantity']>0]\n",
    "retail_uk.shape"
   ]
  },
  {
   "cell_type": "code",
   "execution_count": 5,
   "metadata": {
    "_uuid": "28862d349a323fbfd5fb8fba0330edec6d6619de"
   },
   "outputs": [
    {
     "data": {
      "text/plain": [
       "(354345, 8)"
      ]
     },
     "execution_count": 5,
     "metadata": {},
     "output_type": "execute_result"
    }
   ],
   "source": [
    "#remove rows where customerID are NA\n",
    "retail_uk.dropna(subset=['CustomerID'],how='all',inplace=True)\n",
    "retail_uk.shape"
   ]
  },
  {
   "cell_type": "code",
   "execution_count": 6,
   "metadata": {
    "_uuid": "f1da227215f3cc50400562e36da26dd663aac4af"
   },
   "outputs": [
    {
     "data": {
      "text/plain": [
       "(176137, 8)"
      ]
     },
     "execution_count": 6,
     "metadata": {},
     "output_type": "execute_result"
    }
   ],
   "source": [
    "#restrict the data to one full year because it's better to use a metric per Months or Years in RFM\n",
    "retail_uk = retail_uk[retail_uk['InvoiceDate']>= \"2010-12-09\"]\n",
    "retail_uk.shape"
   ]
  },
  {
   "cell_type": "code",
   "execution_count": 7,
   "metadata": {
    "_uuid": "037d9fae542582ce92c5aa8b7033212be88239da"
   },
   "outputs": [
    {
     "name": "stdout",
     "output_type": "stream",
     "text": [
      "Summary..\n",
      "Number of transactions:  8789\n",
      "Number of products bought:  3294\n",
      "Number of customers: 2864\n",
      "Percentage of customers NA:  0.0 %\n"
     ]
    }
   ],
   "source": [
    "print(\"Summary..\")\n",
    "#exploring the unique values of each attribute\n",
    "print(\"Number of transactions: \", retail_uk['InvoiceNo'].nunique())\n",
    "print(\"Number of products bought: \",retail_uk['StockCode'].nunique())\n",
    "print(\"Number of customers:\", retail_uk['CustomerID'].nunique() )\n",
    "print(\"Percentage of customers NA: \", round(retail_uk['CustomerID'].isnull().sum() * 100 / len(retail_df),2),\"%\" )"
   ]
  },
  {
   "cell_type": "markdown",
   "metadata": {
    "_uuid": "cbaccf99777325fb28ee98c749fea76c4b5693b6"
   },
   "source": [
    "# RFM Analysis"
   ]
  },
  {
   "cell_type": "markdown",
   "metadata": {
    "_uuid": "ec2d9fb9cd749c93e38e928a9f9a19cb5f3ea345"
   },
   "source": [
    "**RFM** (Recency, Frequency, Monetary) analysis is a customer segmentation technique that uses past purchase behavior to divide customers into groups. \n",
    "RFM helps divide customers into various categories or clusters to identify customers who are more likely to respond to promotions and also for future personalization services.\n",
    "\n",
    "- RECENCY (R): Days since last purchase\n",
    "- FREQUENCY (F): Total number of purchases\n",
    "- MONETARY VALUE (M): Total money this customer spent.\n",
    "\n",
    "We will create those 3 customer attributes for each customer."
   ]
  },
  {
   "cell_type": "markdown",
   "metadata": {
    "_uuid": "37025d4aa093ef0ce9fe86d68ba9655564b94656"
   },
   "source": [
    "## Recency"
   ]
  },
  {
   "cell_type": "markdown",
   "metadata": {
    "_uuid": "297503df5b379afba9bce04162ba9804d03ed453"
   },
   "source": [
    "To calculate recency, we need to choose a date point from which we evaluate **how many days ago was the customer's last purchase**."
   ]
  },
  {
   "cell_type": "code",
   "execution_count": 8,
   "metadata": {
    "_uuid": "ce44965c055012d19e134765eb3f6beeabf0ec9a"
   },
   "outputs": [
    {
     "data": {
      "text/plain": [
       "'9/9/2011 9:52'"
      ]
     },
     "execution_count": 8,
     "metadata": {},
     "output_type": "execute_result"
    }
   ],
   "source": [
    "#last date available in our dataset\n",
    "retail_uk['InvoiceDate'].max()"
   ]
  },
  {
   "cell_type": "markdown",
   "metadata": {
    "_uuid": "1d2564a981a2b41c75bed046ef393e66001f7ae3"
   },
   "source": [
    "The last date we have is 2011-12-09 so we will use it as reference."
   ]
  },
  {
   "cell_type": "code",
   "execution_count": 9,
   "metadata": {
    "_uuid": "0c43532a30cfa7b4271dbbe8a2a93499693c50a5"
   },
   "outputs": [
    {
     "name": "stdout",
     "output_type": "stream",
     "text": [
      "2011-12-09\n"
     ]
    }
   ],
   "source": [
    "now = dt.date(2011,12,9)\n",
    "print(now)"
   ]
  },
  {
   "cell_type": "code",
   "execution_count": 10,
   "metadata": {
    "_uuid": "91bd392962c716e963097b158f88f1252866e243"
   },
   "outputs": [],
   "source": [
    "#create a new column called date which contains the date of invoice only\n",
    "retail_uk['date'] = pd.DatetimeIndex(retail_uk['InvoiceDate']).date"
   ]
  },
  {
   "cell_type": "code",
   "execution_count": 11,
   "metadata": {
    "_uuid": "8b97954ec48816c88e7553f1e13ae4e06be1ce02"
   },
   "outputs": [
    {
     "data": {
      "text/html": [
       "<div>\n",
       "<style scoped>\n",
       "    .dataframe tbody tr th:only-of-type {\n",
       "        vertical-align: middle;\n",
       "    }\n",
       "\n",
       "    .dataframe tbody tr th {\n",
       "        vertical-align: top;\n",
       "    }\n",
       "\n",
       "    .dataframe thead th {\n",
       "        text-align: right;\n",
       "    }\n",
       "</style>\n",
       "<table border=\"1\" class=\"dataframe\">\n",
       "  <thead>\n",
       "    <tr style=\"text-align: right;\">\n",
       "      <th></th>\n",
       "      <th>InvoiceNo</th>\n",
       "      <th>StockCode</th>\n",
       "      <th>Description</th>\n",
       "      <th>Quantity</th>\n",
       "      <th>InvoiceDate</th>\n",
       "      <th>UnitPrice</th>\n",
       "      <th>CustomerID</th>\n",
       "      <th>Country</th>\n",
       "      <th>date</th>\n",
       "    </tr>\n",
       "  </thead>\n",
       "  <tbody>\n",
       "    <tr>\n",
       "      <th>105335</th>\n",
       "      <td>545220</td>\n",
       "      <td>21955</td>\n",
       "      <td>DOORMAT UNION JACK GUNS AND ROSES</td>\n",
       "      <td>2</td>\n",
       "      <td>3/1/2011 8:30</td>\n",
       "      <td>7.95</td>\n",
       "      <td>14620</td>\n",
       "      <td>United Kingdom</td>\n",
       "      <td>2011-03-01</td>\n",
       "    </tr>\n",
       "    <tr>\n",
       "      <th>105336</th>\n",
       "      <td>545220</td>\n",
       "      <td>48194</td>\n",
       "      <td>DOORMAT HEARTS</td>\n",
       "      <td>2</td>\n",
       "      <td>3/1/2011 8:30</td>\n",
       "      <td>7.95</td>\n",
       "      <td>14620</td>\n",
       "      <td>United Kingdom</td>\n",
       "      <td>2011-03-01</td>\n",
       "    </tr>\n",
       "    <tr>\n",
       "      <th>105337</th>\n",
       "      <td>545220</td>\n",
       "      <td>22556</td>\n",
       "      <td>PLASTERS IN TIN CIRCUS PARADE</td>\n",
       "      <td>12</td>\n",
       "      <td>3/1/2011 8:30</td>\n",
       "      <td>1.65</td>\n",
       "      <td>14620</td>\n",
       "      <td>United Kingdom</td>\n",
       "      <td>2011-03-01</td>\n",
       "    </tr>\n",
       "    <tr>\n",
       "      <th>105338</th>\n",
       "      <td>545220</td>\n",
       "      <td>22139</td>\n",
       "      <td>RETROSPOT TEA SET CERAMIC 11 PC</td>\n",
       "      <td>3</td>\n",
       "      <td>3/1/2011 8:30</td>\n",
       "      <td>4.95</td>\n",
       "      <td>14620</td>\n",
       "      <td>United Kingdom</td>\n",
       "      <td>2011-03-01</td>\n",
       "    </tr>\n",
       "    <tr>\n",
       "      <th>105339</th>\n",
       "      <td>545220</td>\n",
       "      <td>84029G</td>\n",
       "      <td>KNITTED UNION FLAG HOT WATER BOTTLE</td>\n",
       "      <td>4</td>\n",
       "      <td>3/1/2011 8:30</td>\n",
       "      <td>3.75</td>\n",
       "      <td>14620</td>\n",
       "      <td>United Kingdom</td>\n",
       "      <td>2011-03-01</td>\n",
       "    </tr>\n",
       "  </tbody>\n",
       "</table>\n",
       "</div>"
      ],
      "text/plain": [
       "       InvoiceNo StockCode                          Description  Quantity  \\\n",
       "105335    545220     21955    DOORMAT UNION JACK GUNS AND ROSES         2   \n",
       "105336    545220     48194                       DOORMAT HEARTS         2   \n",
       "105337    545220     22556       PLASTERS IN TIN CIRCUS PARADE         12   \n",
       "105338    545220     22139     RETROSPOT TEA SET CERAMIC 11 PC          3   \n",
       "105339    545220    84029G  KNITTED UNION FLAG HOT WATER BOTTLE         4   \n",
       "\n",
       "          InvoiceDate  UnitPrice CustomerID         Country        date  \n",
       "105335  3/1/2011 8:30       7.95      14620  United Kingdom  2011-03-01  \n",
       "105336  3/1/2011 8:30       7.95      14620  United Kingdom  2011-03-01  \n",
       "105337  3/1/2011 8:30       1.65      14620  United Kingdom  2011-03-01  \n",
       "105338  3/1/2011 8:30       4.95      14620  United Kingdom  2011-03-01  \n",
       "105339  3/1/2011 8:30       3.75      14620  United Kingdom  2011-03-01  "
      ]
     },
     "execution_count": 11,
     "metadata": {},
     "output_type": "execute_result"
    }
   ],
   "source": [
    "retail_uk.head()"
   ]
  },
  {
   "cell_type": "code",
   "execution_count": 12,
   "metadata": {
    "_uuid": "f46c2dafc60fc8fae6ef5771e926bf1ab9c80544"
   },
   "outputs": [
    {
     "data": {
      "text/html": [
       "<div>\n",
       "<style scoped>\n",
       "    .dataframe tbody tr th:only-of-type {\n",
       "        vertical-align: middle;\n",
       "    }\n",
       "\n",
       "    .dataframe tbody tr th {\n",
       "        vertical-align: top;\n",
       "    }\n",
       "\n",
       "    .dataframe thead th {\n",
       "        text-align: right;\n",
       "    }\n",
       "</style>\n",
       "<table border=\"1\" class=\"dataframe\">\n",
       "  <thead>\n",
       "    <tr style=\"text-align: right;\">\n",
       "      <th></th>\n",
       "      <th>CustomerID</th>\n",
       "      <th>LastPurshaceDate</th>\n",
       "    </tr>\n",
       "  </thead>\n",
       "  <tbody>\n",
       "    <tr>\n",
       "      <th>0</th>\n",
       "      <td>12747</td>\n",
       "      <td>2011-08-22</td>\n",
       "    </tr>\n",
       "    <tr>\n",
       "      <th>1</th>\n",
       "      <td>12748</td>\n",
       "      <td>2011-09-30</td>\n",
       "    </tr>\n",
       "    <tr>\n",
       "      <th>2</th>\n",
       "      <td>12749</td>\n",
       "      <td>2011-08-01</td>\n",
       "    </tr>\n",
       "    <tr>\n",
       "      <th>3</th>\n",
       "      <td>12820</td>\n",
       "      <td>2011-09-26</td>\n",
       "    </tr>\n",
       "    <tr>\n",
       "      <th>4</th>\n",
       "      <td>12821</td>\n",
       "      <td>2011-05-09</td>\n",
       "    </tr>\n",
       "  </tbody>\n",
       "</table>\n",
       "</div>"
      ],
      "text/plain": [
       "  CustomerID LastPurshaceDate\n",
       "0      12747       2011-08-22\n",
       "1      12748       2011-09-30\n",
       "2      12749       2011-08-01\n",
       "3      12820       2011-09-26\n",
       "4      12821       2011-05-09"
      ]
     },
     "execution_count": 12,
     "metadata": {},
     "output_type": "execute_result"
    }
   ],
   "source": [
    "#group by customers and check last date of purshace\n",
    "recency_df = retail_uk.groupby(by='CustomerID', as_index=False)['date'].max()\n",
    "recency_df.columns = ['CustomerID','LastPurshaceDate']\n",
    "recency_df.head()"
   ]
  },
  {
   "cell_type": "code",
   "execution_count": 13,
   "metadata": {
    "_uuid": "0f9cc1426b3f070520c2a7009c4248978810e75d",
    "collapsed": true,
    "jupyter": {
     "outputs_hidden": true
    }
   },
   "outputs": [],
   "source": [
    "\n",
    "#calculate recency\n",
    "recency_df['Recency'] = recency_df['LastPurshaceDate'].apply(lambda x: (now - x).days)"
   ]
  },
  {
   "cell_type": "code",
   "execution_count": 14,
   "metadata": {
    "_uuid": "c16b48098b91e515574c17d163e632567499e564"
   },
   "outputs": [
    {
     "data": {
      "text/html": [
       "<div>\n",
       "<style scoped>\n",
       "    .dataframe tbody tr th:only-of-type {\n",
       "        vertical-align: middle;\n",
       "    }\n",
       "\n",
       "    .dataframe tbody tr th {\n",
       "        vertical-align: top;\n",
       "    }\n",
       "\n",
       "    .dataframe thead th {\n",
       "        text-align: right;\n",
       "    }\n",
       "</style>\n",
       "<table border=\"1\" class=\"dataframe\">\n",
       "  <thead>\n",
       "    <tr style=\"text-align: right;\">\n",
       "      <th></th>\n",
       "      <th>CustomerID</th>\n",
       "      <th>LastPurshaceDate</th>\n",
       "      <th>Recency</th>\n",
       "    </tr>\n",
       "  </thead>\n",
       "  <tbody>\n",
       "    <tr>\n",
       "      <th>0</th>\n",
       "      <td>12747</td>\n",
       "      <td>2011-08-22</td>\n",
       "      <td>109</td>\n",
       "    </tr>\n",
       "    <tr>\n",
       "      <th>1</th>\n",
       "      <td>12748</td>\n",
       "      <td>2011-09-30</td>\n",
       "      <td>70</td>\n",
       "    </tr>\n",
       "    <tr>\n",
       "      <th>2</th>\n",
       "      <td>12749</td>\n",
       "      <td>2011-08-01</td>\n",
       "      <td>130</td>\n",
       "    </tr>\n",
       "    <tr>\n",
       "      <th>3</th>\n",
       "      <td>12820</td>\n",
       "      <td>2011-09-26</td>\n",
       "      <td>74</td>\n",
       "    </tr>\n",
       "    <tr>\n",
       "      <th>4</th>\n",
       "      <td>12821</td>\n",
       "      <td>2011-05-09</td>\n",
       "      <td>214</td>\n",
       "    </tr>\n",
       "  </tbody>\n",
       "</table>\n",
       "</div>"
      ],
      "text/plain": [
       "  CustomerID LastPurshaceDate  Recency\n",
       "0      12747       2011-08-22      109\n",
       "1      12748       2011-09-30       70\n",
       "2      12749       2011-08-01      130\n",
       "3      12820       2011-09-26       74\n",
       "4      12821       2011-05-09      214"
      ]
     },
     "execution_count": 14,
     "metadata": {},
     "output_type": "execute_result"
    }
   ],
   "source": [
    "recency_df.head()"
   ]
  },
  {
   "cell_type": "code",
   "execution_count": 15,
   "metadata": {
    "_uuid": "9fa862b85b52d80bbf5b127234d30c67f4aa4181",
    "collapsed": true,
    "jupyter": {
     "outputs_hidden": true
    }
   },
   "outputs": [],
   "source": [
    "#drop LastPurchaseDate as we don't need it anymore\n",
    "recency_df.drop('LastPurshaceDate',axis=1,inplace=True)"
   ]
  },
  {
   "cell_type": "markdown",
   "metadata": {
    "_uuid": "64c16d4ddbd8ee8719dcddde7e3257d7f9faffb3"
   },
   "source": [
    "## Frequency"
   ]
  },
  {
   "cell_type": "markdown",
   "metadata": {
    "_uuid": "41069f6b022ad8ea37d941f165fa20baa2868d04"
   },
   "source": [
    "Frequency helps us to know how many times a customer purchased from us. To do that we need to check **how many invoices are registered by the same customer**."
   ]
  },
  {
   "cell_type": "code",
   "execution_count": 16,
   "metadata": {
    "_uuid": "1b682a23d7ace26d73c691ac95a975dfd6f588c5"
   },
   "outputs": [
    {
     "data": {
      "text/html": [
       "<div>\n",
       "<style scoped>\n",
       "    .dataframe tbody tr th:only-of-type {\n",
       "        vertical-align: middle;\n",
       "    }\n",
       "\n",
       "    .dataframe tbody tr th {\n",
       "        vertical-align: top;\n",
       "    }\n",
       "\n",
       "    .dataframe thead th {\n",
       "        text-align: right;\n",
       "    }\n",
       "</style>\n",
       "<table border=\"1\" class=\"dataframe\">\n",
       "  <thead>\n",
       "    <tr style=\"text-align: right;\">\n",
       "      <th></th>\n",
       "      <th>CustomerID</th>\n",
       "      <th>Frequency</th>\n",
       "    </tr>\n",
       "  </thead>\n",
       "  <tbody>\n",
       "    <tr>\n",
       "      <th>0</th>\n",
       "      <td>12747</td>\n",
       "      <td>5</td>\n",
       "    </tr>\n",
       "    <tr>\n",
       "      <th>1</th>\n",
       "      <td>12748</td>\n",
       "      <td>96</td>\n",
       "    </tr>\n",
       "    <tr>\n",
       "      <th>2</th>\n",
       "      <td>12749</td>\n",
       "      <td>3</td>\n",
       "    </tr>\n",
       "    <tr>\n",
       "      <th>3</th>\n",
       "      <td>12820</td>\n",
       "      <td>1</td>\n",
       "    </tr>\n",
       "    <tr>\n",
       "      <th>4</th>\n",
       "      <td>12821</td>\n",
       "      <td>1</td>\n",
       "    </tr>\n",
       "  </tbody>\n",
       "</table>\n",
       "</div>"
      ],
      "text/plain": [
       "  CustomerID  Frequency\n",
       "0      12747          5\n",
       "1      12748         96\n",
       "2      12749          3\n",
       "3      12820          1\n",
       "4      12821          1"
      ]
     },
     "execution_count": 16,
     "metadata": {},
     "output_type": "execute_result"
    }
   ],
   "source": [
    "# drop duplicates\n",
    "retail_uk_copy = retail_uk\n",
    "retail_uk_copy.drop_duplicates(subset=['InvoiceNo', 'CustomerID'], keep=\"first\", inplace=True)\n",
    "#calculate frequency of purchases\n",
    "frequency_df = retail_uk_copy.groupby(by=['CustomerID'], as_index=False)['InvoiceNo'].count()\n",
    "frequency_df.columns = ['CustomerID','Frequency']\n",
    "frequency_df.head()"
   ]
  },
  {
   "cell_type": "markdown",
   "metadata": {
    "_uuid": "f676ce29bcbe49aeb73de6706ab1e7eb954172ff"
   },
   "source": [
    "## Monetary"
   ]
  },
  {
   "cell_type": "markdown",
   "metadata": {
    "_uuid": "9c0b5a6c58b1ab515d3ac34738733d5e2a1729af"
   },
   "source": [
    "Monetary attribute answers the question: **How much money did the customer spent over time?**\n",
    "\n",
    "To do that, first, we will create a new column total cost to have the total price per invoice."
   ]
  },
  {
   "cell_type": "code",
   "execution_count": 17,
   "metadata": {
    "_uuid": "f0ba92add4b2789dfaa6b275daf9c83bd85a0036",
    "collapsed": true,
    "jupyter": {
     "outputs_hidden": true
    }
   },
   "outputs": [],
   "source": [
    "#create column total cost\n",
    "retail_uk['TotalCost'] = retail_uk['Quantity'] * retail_uk['UnitPrice']"
   ]
  },
  {
   "cell_type": "code",
   "execution_count": 18,
   "metadata": {
    "_uuid": "b95ce8a5cdbb3e5a4c199c8f338cfbce19ed8266"
   },
   "outputs": [
    {
     "data": {
      "text/html": [
       "<div>\n",
       "<style scoped>\n",
       "    .dataframe tbody tr th:only-of-type {\n",
       "        vertical-align: middle;\n",
       "    }\n",
       "\n",
       "    .dataframe tbody tr th {\n",
       "        vertical-align: top;\n",
       "    }\n",
       "\n",
       "    .dataframe thead th {\n",
       "        text-align: right;\n",
       "    }\n",
       "</style>\n",
       "<table border=\"1\" class=\"dataframe\">\n",
       "  <thead>\n",
       "    <tr style=\"text-align: right;\">\n",
       "      <th></th>\n",
       "      <th>CustomerID</th>\n",
       "      <th>Monetary</th>\n",
       "    </tr>\n",
       "  </thead>\n",
       "  <tbody>\n",
       "    <tr>\n",
       "      <th>0</th>\n",
       "      <td>12747</td>\n",
       "      <td>191.85</td>\n",
       "    </tr>\n",
       "    <tr>\n",
       "      <th>1</th>\n",
       "      <td>12748</td>\n",
       "      <td>1054.43</td>\n",
       "    </tr>\n",
       "    <tr>\n",
       "      <th>2</th>\n",
       "      <td>12749</td>\n",
       "      <td>67.00</td>\n",
       "    </tr>\n",
       "    <tr>\n",
       "      <th>3</th>\n",
       "      <td>12820</td>\n",
       "      <td>15.00</td>\n",
       "    </tr>\n",
       "    <tr>\n",
       "      <th>4</th>\n",
       "      <td>12821</td>\n",
       "      <td>19.92</td>\n",
       "    </tr>\n",
       "  </tbody>\n",
       "</table>\n",
       "</div>"
      ],
      "text/plain": [
       "  CustomerID  Monetary\n",
       "0      12747    191.85\n",
       "1      12748   1054.43\n",
       "2      12749     67.00\n",
       "3      12820     15.00\n",
       "4      12821     19.92"
      ]
     },
     "execution_count": 18,
     "metadata": {},
     "output_type": "execute_result"
    }
   ],
   "source": [
    "monetary_df = retail_uk.groupby(by='CustomerID',as_index=False).agg({'TotalCost': 'sum'})\n",
    "monetary_df.columns = ['CustomerID','Monetary']\n",
    "monetary_df.head()"
   ]
  },
  {
   "cell_type": "markdown",
   "metadata": {
    "_uuid": "55ffbc87d562083d6c8ed174bfa751b1a84119b9"
   },
   "source": [
    "## Create RFM Table"
   ]
  },
  {
   "cell_type": "code",
   "execution_count": 19,
   "metadata": {
    "_uuid": "3a690db35fe721345dfd4dd625cdfaa9fffe96ee"
   },
   "outputs": [
    {
     "data": {
      "text/html": [
       "<div>\n",
       "<style scoped>\n",
       "    .dataframe tbody tr th:only-of-type {\n",
       "        vertical-align: middle;\n",
       "    }\n",
       "\n",
       "    .dataframe tbody tr th {\n",
       "        vertical-align: top;\n",
       "    }\n",
       "\n",
       "    .dataframe thead th {\n",
       "        text-align: right;\n",
       "    }\n",
       "</style>\n",
       "<table border=\"1\" class=\"dataframe\">\n",
       "  <thead>\n",
       "    <tr style=\"text-align: right;\">\n",
       "      <th></th>\n",
       "      <th>CustomerID</th>\n",
       "      <th>Recency</th>\n",
       "      <th>Frequency</th>\n",
       "    </tr>\n",
       "  </thead>\n",
       "  <tbody>\n",
       "    <tr>\n",
       "      <th>0</th>\n",
       "      <td>12747</td>\n",
       "      <td>109</td>\n",
       "      <td>5</td>\n",
       "    </tr>\n",
       "    <tr>\n",
       "      <th>1</th>\n",
       "      <td>12748</td>\n",
       "      <td>70</td>\n",
       "      <td>96</td>\n",
       "    </tr>\n",
       "    <tr>\n",
       "      <th>2</th>\n",
       "      <td>12749</td>\n",
       "      <td>130</td>\n",
       "      <td>3</td>\n",
       "    </tr>\n",
       "    <tr>\n",
       "      <th>3</th>\n",
       "      <td>12820</td>\n",
       "      <td>74</td>\n",
       "      <td>1</td>\n",
       "    </tr>\n",
       "    <tr>\n",
       "      <th>4</th>\n",
       "      <td>12821</td>\n",
       "      <td>214</td>\n",
       "      <td>1</td>\n",
       "    </tr>\n",
       "  </tbody>\n",
       "</table>\n",
       "</div>"
      ],
      "text/plain": [
       "  CustomerID  Recency  Frequency\n",
       "0      12747      109          5\n",
       "1      12748       70         96\n",
       "2      12749      130          3\n",
       "3      12820       74          1\n",
       "4      12821      214          1"
      ]
     },
     "execution_count": 19,
     "metadata": {},
     "output_type": "execute_result"
    }
   ],
   "source": [
    "#merge recency dataframe with frequency dataframe\n",
    "temp_df = recency_df.merge(frequency_df,on='CustomerID')\n",
    "temp_df.head()"
   ]
  },
  {
   "cell_type": "code",
   "execution_count": 20,
   "metadata": {
    "_uuid": "438c0e79c90e4abc8579e4d007e89366e9105bf0"
   },
   "outputs": [],
   "source": [
    "#merge with monetary dataframe to get a table with the 3 columns\n",
    "rfm_df = temp_df.merge(monetary_df,on='CustomerID')\n",
    "#use CustomerID as index\n",
    "rfm_df.set_index('CustomerID',inplace=True)\n",
    "#check the head\n",
    "rfm_df.head()\n",
    "temp = rfm_df.copy()"
   ]
  },
  {
   "cell_type": "markdown",
   "metadata": {
    "_uuid": "bb444d9ad0de911c791a4b404dd227004c589ef8"
   },
   "source": [
    "## RFM Table Correctness verification"
   ]
  },
  {
   "cell_type": "code",
   "execution_count": 21,
   "metadata": {
    "_uuid": "a10b2e7884466bff185104c353ded2621a2ddb86"
   },
   "outputs": [
    {
     "data": {
      "text/html": [
       "<div>\n",
       "<style scoped>\n",
       "    .dataframe tbody tr th:only-of-type {\n",
       "        vertical-align: middle;\n",
       "    }\n",
       "\n",
       "    .dataframe tbody tr th {\n",
       "        vertical-align: top;\n",
       "    }\n",
       "\n",
       "    .dataframe thead th {\n",
       "        text-align: right;\n",
       "    }\n",
       "</style>\n",
       "<table border=\"1\" class=\"dataframe\">\n",
       "  <thead>\n",
       "    <tr style=\"text-align: right;\">\n",
       "      <th></th>\n",
       "      <th>InvoiceNo</th>\n",
       "      <th>StockCode</th>\n",
       "      <th>Description</th>\n",
       "      <th>Quantity</th>\n",
       "      <th>InvoiceDate</th>\n",
       "      <th>UnitPrice</th>\n",
       "      <th>CustomerID</th>\n",
       "      <th>Country</th>\n",
       "      <th>date</th>\n",
       "      <th>TotalCost</th>\n",
       "    </tr>\n",
       "  </thead>\n",
       "  <tbody>\n",
       "    <tr>\n",
       "      <th>360567</th>\n",
       "      <td>568236</td>\n",
       "      <td>23328</td>\n",
       "      <td>SET 6 SCHOOL MILK BOTTLES IN CRATE</td>\n",
       "      <td>4</td>\n",
       "      <td>9/26/2011 11:49</td>\n",
       "      <td>3.75</td>\n",
       "      <td>12820</td>\n",
       "      <td>United Kingdom</td>\n",
       "      <td>2011-09-26</td>\n",
       "      <td>15.0</td>\n",
       "    </tr>\n",
       "  </tbody>\n",
       "</table>\n",
       "</div>"
      ],
      "text/plain": [
       "       InvoiceNo StockCode                         Description  Quantity  \\\n",
       "360567    568236     23328  SET 6 SCHOOL MILK BOTTLES IN CRATE         4   \n",
       "\n",
       "            InvoiceDate  UnitPrice CustomerID         Country        date  \\\n",
       "360567  9/26/2011 11:49       3.75      12820  United Kingdom  2011-09-26   \n",
       "\n",
       "        TotalCost  \n",
       "360567       15.0  "
      ]
     },
     "execution_count": 21,
     "metadata": {},
     "output_type": "execute_result"
    }
   ],
   "source": [
    "retail_uk[retail_uk['CustomerID']=='12820']"
   ]
  },
  {
   "cell_type": "code",
   "execution_count": 22,
   "metadata": {
    "_uuid": "4221bca5449a3ac5835de849978dfd5cded89349"
   },
   "outputs": [
    {
     "data": {
      "text/plain": [
       "True"
      ]
     },
     "execution_count": 22,
     "metadata": {},
     "output_type": "execute_result"
    }
   ],
   "source": [
    "(now - dt.date(2011,9,26)).days == 74"
   ]
  },
  {
   "cell_type": "markdown",
   "metadata": {
    "_uuid": "5b4b281a23d455056581cb1d58275b36e0a58990"
   },
   "source": [
    "## Customer segments with RFM Model"
   ]
  },
  {
   "cell_type": "markdown",
   "metadata": {
    "_uuid": "ad8f715fe3b5bd0380386420f62c5fee233c39c2"
   },
   "source": [
    "The simplest way to create customers segments from RFM Model is to use** Quartiles**. We assign a score from 1 to 4 to Recency, Frequency and Monetary. Four is the best/highest value, and one is the lowest/worst value. A final RFM score is calculated simply by combining individual RFM score numbers.\n",
    "\n",
    "Note: Quintiles (score from 1-5) offer better granularity, in case the business needs that but it will be more challenging to create segments since we will have 555 possible combinations. So, we will use quartiles."
   ]
  },
  {
   "cell_type": "markdown",
   "metadata": {
    "_uuid": "fa4f401ebb36f68747f0315db84bb65bb8054a2e"
   },
   "source": [
    "### RFM Quartiles"
   ]
  },
  {
   "cell_type": "code",
   "execution_count": 23,
   "metadata": {
    "_uuid": "d3c0d797ed33433723b8c22d98134e0da2360f13"
   },
   "outputs": [
    {
     "data": {
      "text/html": [
       "<div>\n",
       "<style scoped>\n",
       "    .dataframe tbody tr th:only-of-type {\n",
       "        vertical-align: middle;\n",
       "    }\n",
       "\n",
       "    .dataframe tbody tr th {\n",
       "        vertical-align: top;\n",
       "    }\n",
       "\n",
       "    .dataframe thead th {\n",
       "        text-align: right;\n",
       "    }\n",
       "</style>\n",
       "<table border=\"1\" class=\"dataframe\">\n",
       "  <thead>\n",
       "    <tr style=\"text-align: right;\">\n",
       "      <th></th>\n",
       "      <th>Recency</th>\n",
       "      <th>Frequency</th>\n",
       "      <th>Monetary</th>\n",
       "    </tr>\n",
       "  </thead>\n",
       "  <tbody>\n",
       "    <tr>\n",
       "      <th>0.25</th>\n",
       "      <td>85.0</td>\n",
       "      <td>1.0</td>\n",
       "      <td>16.35</td>\n",
       "    </tr>\n",
       "    <tr>\n",
       "      <th>0.50</th>\n",
       "      <td>119.0</td>\n",
       "      <td>2.0</td>\n",
       "      <td>35.40</td>\n",
       "    </tr>\n",
       "    <tr>\n",
       "      <th>0.75</th>\n",
       "      <td>183.0</td>\n",
       "      <td>3.0</td>\n",
       "      <td>92.42</td>\n",
       "    </tr>\n",
       "  </tbody>\n",
       "</table>\n",
       "</div>"
      ],
      "text/plain": [
       "      Recency  Frequency  Monetary\n",
       "0.25     85.0        1.0     16.35\n",
       "0.50    119.0        2.0     35.40\n",
       "0.75    183.0        3.0     92.42"
      ]
     },
     "execution_count": 23,
     "metadata": {},
     "output_type": "execute_result"
    }
   ],
   "source": [
    "quantiles = rfm_df.quantile(q=[0.25,0.5,0.75])\n",
    "quantiles"
   ]
  },
  {
   "cell_type": "code",
   "execution_count": 24,
   "metadata": {
    "_uuid": "490b462479549721728b54abeffe461da4b14414"
   },
   "outputs": [
    {
     "data": {
      "text/plain": [
       "{'Recency': {0.25: 85.0, 0.5: 119.0, 0.75: 183.0},\n",
       " 'Frequency': {0.25: 1.0, 0.5: 2.0, 0.75: 3.0},\n",
       " 'Monetary': {0.25: 16.35, 0.5: 35.400000000000006, 0.75: 92.42}}"
      ]
     },
     "execution_count": 24,
     "metadata": {},
     "output_type": "execute_result"
    }
   ],
   "source": [
    "quantiles.to_dict()"
   ]
  },
  {
   "cell_type": "markdown",
   "metadata": {
    "_uuid": "ea328b04e3754e58a50a6ed3e6b7167f06a87850"
   },
   "source": [
    "### Creation of RFM Segments"
   ]
  },
  {
   "cell_type": "markdown",
   "metadata": {
    "_uuid": "5411971626dc4186db643ac2f4e0afaa7cf049f7"
   },
   "source": [
    "We will create two segmentation classes since, high recency is bad, while high frequency and monetary value is good."
   ]
  },
  {
   "cell_type": "code",
   "execution_count": 25,
   "metadata": {
    "_uuid": "5949b42ea855fca7e11d9aa04dc67cb944eedf58",
    "collapsed": true,
    "jupyter": {
     "outputs_hidden": true
    }
   },
   "outputs": [],
   "source": [
    "# Arguments (x = value, p = recency, monetary_value, frequency, d = quartiles dict)\n",
    "def RScore(x,p,d):\n",
    "    if x <= d[p][0.25]:\n",
    "        return 4\n",
    "    elif x <= d[p][0.50]:\n",
    "        return 3\n",
    "    elif x <= d[p][0.75]: \n",
    "        return 2\n",
    "    else:\n",
    "        return 1\n",
    "# Arguments (x = value, p = recency, monetary_value, frequency, k = quartiles dict)\n",
    "def FMScore(x,p,d):\n",
    "    if x <= d[p][0.25]:\n",
    "        return 1\n",
    "    elif x <= d[p][0.50]:\n",
    "        return 2\n",
    "    elif x <= d[p][0.75]: \n",
    "        return 3\n",
    "    else:\n",
    "        return 4"
   ]
  },
  {
   "cell_type": "code",
   "execution_count": 26,
   "metadata": {
    "_uuid": "9f64510c0092214e60d8b8d75f1cbf5832ab130c",
    "collapsed": true,
    "jupyter": {
     "outputs_hidden": true
    }
   },
   "outputs": [],
   "source": [
    "#create rfm segmentation table\n",
    "rfm_segmentation = rfm_df\n",
    "rfm_segmentation['R_Quartile'] = rfm_segmentation['Recency'].apply(RScore, args=('Recency',quantiles,))\n",
    "rfm_segmentation['F_Quartile'] = rfm_segmentation['Frequency'].apply(FMScore, args=('Frequency',quantiles,))\n",
    "rfm_segmentation['M_Quartile'] = rfm_segmentation['Monetary'].apply(FMScore, args=('Monetary',quantiles,))"
   ]
  },
  {
   "cell_type": "code",
   "execution_count": 27,
   "metadata": {
    "_uuid": "b49230a7f06323dd70bbe00cfb926a07586313c7"
   },
   "outputs": [
    {
     "data": {
      "text/html": [
       "<div>\n",
       "<style scoped>\n",
       "    .dataframe tbody tr th:only-of-type {\n",
       "        vertical-align: middle;\n",
       "    }\n",
       "\n",
       "    .dataframe tbody tr th {\n",
       "        vertical-align: top;\n",
       "    }\n",
       "\n",
       "    .dataframe thead th {\n",
       "        text-align: right;\n",
       "    }\n",
       "</style>\n",
       "<table border=\"1\" class=\"dataframe\">\n",
       "  <thead>\n",
       "    <tr style=\"text-align: right;\">\n",
       "      <th></th>\n",
       "      <th>Recency</th>\n",
       "      <th>Frequency</th>\n",
       "      <th>Monetary</th>\n",
       "      <th>R_Quartile</th>\n",
       "      <th>F_Quartile</th>\n",
       "      <th>M_Quartile</th>\n",
       "    </tr>\n",
       "    <tr>\n",
       "      <th>CustomerID</th>\n",
       "      <th></th>\n",
       "      <th></th>\n",
       "      <th></th>\n",
       "      <th></th>\n",
       "      <th></th>\n",
       "      <th></th>\n",
       "    </tr>\n",
       "  </thead>\n",
       "  <tbody>\n",
       "    <tr>\n",
       "      <th>12747</th>\n",
       "      <td>109</td>\n",
       "      <td>5</td>\n",
       "      <td>191.85</td>\n",
       "      <td>3</td>\n",
       "      <td>4</td>\n",
       "      <td>4</td>\n",
       "    </tr>\n",
       "    <tr>\n",
       "      <th>12748</th>\n",
       "      <td>70</td>\n",
       "      <td>96</td>\n",
       "      <td>1054.43</td>\n",
       "      <td>4</td>\n",
       "      <td>4</td>\n",
       "      <td>4</td>\n",
       "    </tr>\n",
       "    <tr>\n",
       "      <th>12749</th>\n",
       "      <td>130</td>\n",
       "      <td>3</td>\n",
       "      <td>67.00</td>\n",
       "      <td>2</td>\n",
       "      <td>3</td>\n",
       "      <td>3</td>\n",
       "    </tr>\n",
       "    <tr>\n",
       "      <th>12820</th>\n",
       "      <td>74</td>\n",
       "      <td>1</td>\n",
       "      <td>15.00</td>\n",
       "      <td>4</td>\n",
       "      <td>1</td>\n",
       "      <td>1</td>\n",
       "    </tr>\n",
       "    <tr>\n",
       "      <th>12821</th>\n",
       "      <td>214</td>\n",
       "      <td>1</td>\n",
       "      <td>19.92</td>\n",
       "      <td>1</td>\n",
       "      <td>1</td>\n",
       "      <td>2</td>\n",
       "    </tr>\n",
       "  </tbody>\n",
       "</table>\n",
       "</div>"
      ],
      "text/plain": [
       "            Recency  Frequency  Monetary  R_Quartile  F_Quartile  M_Quartile\n",
       "CustomerID                                                                  \n",
       "12747           109          5    191.85           3           4           4\n",
       "12748            70         96   1054.43           4           4           4\n",
       "12749           130          3     67.00           2           3           3\n",
       "12820            74          1     15.00           4           1           1\n",
       "12821           214          1     19.92           1           1           2"
      ]
     },
     "execution_count": 27,
     "metadata": {},
     "output_type": "execute_result"
    }
   ],
   "source": [
    "rfm_segmentation.head()"
   ]
  },
  {
   "cell_type": "markdown",
   "metadata": {
    "_uuid": "9dc54f3e65394975c917b1f0abc8132660c7a0fb"
   },
   "source": [
    "Now that we have the score of each customer, we can represent our customer segmentation.\n",
    "First, we need to combine the scores (R_Quartile, F_Quartile,M_Quartile) together."
   ]
  },
  {
   "cell_type": "code",
   "execution_count": 28,
   "metadata": {
    "_uuid": "abf9b0672f0a0dbc6350dccb8261d4eeab5e3843"
   },
   "outputs": [
    {
     "data": {
      "text/html": [
       "<div>\n",
       "<style scoped>\n",
       "    .dataframe tbody tr th:only-of-type {\n",
       "        vertical-align: middle;\n",
       "    }\n",
       "\n",
       "    .dataframe tbody tr th {\n",
       "        vertical-align: top;\n",
       "    }\n",
       "\n",
       "    .dataframe thead th {\n",
       "        text-align: right;\n",
       "    }\n",
       "</style>\n",
       "<table border=\"1\" class=\"dataframe\">\n",
       "  <thead>\n",
       "    <tr style=\"text-align: right;\">\n",
       "      <th></th>\n",
       "      <th>Recency</th>\n",
       "      <th>Frequency</th>\n",
       "      <th>Monetary</th>\n",
       "      <th>R_Quartile</th>\n",
       "      <th>F_Quartile</th>\n",
       "      <th>M_Quartile</th>\n",
       "      <th>RFMScore</th>\n",
       "    </tr>\n",
       "    <tr>\n",
       "      <th>CustomerID</th>\n",
       "      <th></th>\n",
       "      <th></th>\n",
       "      <th></th>\n",
       "      <th></th>\n",
       "      <th></th>\n",
       "      <th></th>\n",
       "      <th></th>\n",
       "    </tr>\n",
       "  </thead>\n",
       "  <tbody>\n",
       "    <tr>\n",
       "      <th>12747</th>\n",
       "      <td>109</td>\n",
       "      <td>5</td>\n",
       "      <td>191.85</td>\n",
       "      <td>3</td>\n",
       "      <td>4</td>\n",
       "      <td>4</td>\n",
       "      <td>344</td>\n",
       "    </tr>\n",
       "    <tr>\n",
       "      <th>12748</th>\n",
       "      <td>70</td>\n",
       "      <td>96</td>\n",
       "      <td>1054.43</td>\n",
       "      <td>4</td>\n",
       "      <td>4</td>\n",
       "      <td>4</td>\n",
       "      <td>444</td>\n",
       "    </tr>\n",
       "    <tr>\n",
       "      <th>12749</th>\n",
       "      <td>130</td>\n",
       "      <td>3</td>\n",
       "      <td>67.00</td>\n",
       "      <td>2</td>\n",
       "      <td>3</td>\n",
       "      <td>3</td>\n",
       "      <td>233</td>\n",
       "    </tr>\n",
       "    <tr>\n",
       "      <th>12820</th>\n",
       "      <td>74</td>\n",
       "      <td>1</td>\n",
       "      <td>15.00</td>\n",
       "      <td>4</td>\n",
       "      <td>1</td>\n",
       "      <td>1</td>\n",
       "      <td>411</td>\n",
       "    </tr>\n",
       "    <tr>\n",
       "      <th>12821</th>\n",
       "      <td>214</td>\n",
       "      <td>1</td>\n",
       "      <td>19.92</td>\n",
       "      <td>1</td>\n",
       "      <td>1</td>\n",
       "      <td>2</td>\n",
       "      <td>112</td>\n",
       "    </tr>\n",
       "  </tbody>\n",
       "</table>\n",
       "</div>"
      ],
      "text/plain": [
       "            Recency  Frequency  Monetary  R_Quartile  F_Quartile  M_Quartile  \\\n",
       "CustomerID                                                                     \n",
       "12747           109          5    191.85           3           4           4   \n",
       "12748            70         96   1054.43           4           4           4   \n",
       "12749           130          3     67.00           2           3           3   \n",
       "12820            74          1     15.00           4           1           1   \n",
       "12821           214          1     19.92           1           1           2   \n",
       "\n",
       "           RFMScore  \n",
       "CustomerID           \n",
       "12747           344  \n",
       "12748           444  \n",
       "12749           233  \n",
       "12820           411  \n",
       "12821           112  "
      ]
     },
     "execution_count": 28,
     "metadata": {},
     "output_type": "execute_result"
    }
   ],
   "source": [
    "rfm_segmentation['RFMScore'] = rfm_segmentation.R_Quartile.map(str) \\\n",
    "                            + rfm_segmentation.F_Quartile.map(str) \\\n",
    "                            + rfm_segmentation.M_Quartile.map(str)\n",
    "rfm_segmentation.head()"
   ]
  },
  {
   "cell_type": "markdown",
   "metadata": {
    "_uuid": "d6b4cce24045e404daa89a03038745155d8ec83f"
   },
   "source": [
    "Best Recency score = 4: most recently purchase. Best Frequency score = 4: most quantity purchase. \n",
    "Best Monetary score = 4: spent the most."
   ]
  },
  {
   "cell_type": "markdown",
   "metadata": {
    "_uuid": "79fb45333f36ebde6120c84a33bab6d54dacba02"
   },
   "source": [
    "Let's see who are our** Champions** (best customers)."
   ]
  },
  {
   "cell_type": "code",
   "execution_count": 29,
   "metadata": {
    "_uuid": "2d86c2bce22118c23afcaca4a2a0d7331d36a8c0"
   },
   "outputs": [
    {
     "data": {
      "text/html": [
       "<div>\n",
       "<style scoped>\n",
       "    .dataframe tbody tr th:only-of-type {\n",
       "        vertical-align: middle;\n",
       "    }\n",
       "\n",
       "    .dataframe tbody tr th {\n",
       "        vertical-align: top;\n",
       "    }\n",
       "\n",
       "    .dataframe thead th {\n",
       "        text-align: right;\n",
       "    }\n",
       "</style>\n",
       "<table border=\"1\" class=\"dataframe\">\n",
       "  <thead>\n",
       "    <tr style=\"text-align: right;\">\n",
       "      <th></th>\n",
       "      <th>Recency</th>\n",
       "      <th>Frequency</th>\n",
       "      <th>Monetary</th>\n",
       "      <th>R_Quartile</th>\n",
       "      <th>F_Quartile</th>\n",
       "      <th>M_Quartile</th>\n",
       "      <th>RFMScore</th>\n",
       "    </tr>\n",
       "    <tr>\n",
       "      <th>CustomerID</th>\n",
       "      <th></th>\n",
       "      <th></th>\n",
       "      <th></th>\n",
       "      <th></th>\n",
       "      <th></th>\n",
       "      <th></th>\n",
       "      <th></th>\n",
       "    </tr>\n",
       "  </thead>\n",
       "  <tbody>\n",
       "    <tr>\n",
       "      <th>18102</th>\n",
       "      <td>72</td>\n",
       "      <td>34</td>\n",
       "      <td>26632.62</td>\n",
       "      <td>4</td>\n",
       "      <td>4</td>\n",
       "      <td>4</td>\n",
       "      <td>444</td>\n",
       "    </tr>\n",
       "    <tr>\n",
       "      <th>17949</th>\n",
       "      <td>70</td>\n",
       "      <td>32</td>\n",
       "      <td>22504.73</td>\n",
       "      <td>4</td>\n",
       "      <td>4</td>\n",
       "      <td>4</td>\n",
       "      <td>444</td>\n",
       "    </tr>\n",
       "    <tr>\n",
       "      <th>17450</th>\n",
       "      <td>70</td>\n",
       "      <td>28</td>\n",
       "      <td>18009.06</td>\n",
       "      <td>4</td>\n",
       "      <td>4</td>\n",
       "      <td>4</td>\n",
       "      <td>444</td>\n",
       "    </tr>\n",
       "    <tr>\n",
       "      <th>16029</th>\n",
       "      <td>80</td>\n",
       "      <td>39</td>\n",
       "      <td>15119.49</td>\n",
       "      <td>4</td>\n",
       "      <td>4</td>\n",
       "      <td>4</td>\n",
       "      <td>444</td>\n",
       "    </tr>\n",
       "    <tr>\n",
       "      <th>16013</th>\n",
       "      <td>70</td>\n",
       "      <td>24</td>\n",
       "      <td>10402.34</td>\n",
       "      <td>4</td>\n",
       "      <td>4</td>\n",
       "      <td>4</td>\n",
       "      <td>444</td>\n",
       "    </tr>\n",
       "    <tr>\n",
       "      <th>12901</th>\n",
       "      <td>81</td>\n",
       "      <td>20</td>\n",
       "      <td>5915.66</td>\n",
       "      <td>4</td>\n",
       "      <td>4</td>\n",
       "      <td>4</td>\n",
       "      <td>444</td>\n",
       "    </tr>\n",
       "    <tr>\n",
       "      <th>13798</th>\n",
       "      <td>72</td>\n",
       "      <td>34</td>\n",
       "      <td>4648.80</td>\n",
       "      <td>4</td>\n",
       "      <td>4</td>\n",
       "      <td>4</td>\n",
       "      <td>444</td>\n",
       "    </tr>\n",
       "    <tr>\n",
       "      <th>17857</th>\n",
       "      <td>72</td>\n",
       "      <td>12</td>\n",
       "      <td>4644.68</td>\n",
       "      <td>4</td>\n",
       "      <td>4</td>\n",
       "      <td>4</td>\n",
       "      <td>444</td>\n",
       "    </tr>\n",
       "    <tr>\n",
       "      <th>13694</th>\n",
       "      <td>71</td>\n",
       "      <td>32</td>\n",
       "      <td>4472.68</td>\n",
       "      <td>4</td>\n",
       "      <td>4</td>\n",
       "      <td>4</td>\n",
       "      <td>444</td>\n",
       "    </tr>\n",
       "    <tr>\n",
       "      <th>15061</th>\n",
       "      <td>73</td>\n",
       "      <td>23</td>\n",
       "      <td>3417.70</td>\n",
       "      <td>4</td>\n",
       "      <td>4</td>\n",
       "      <td>4</td>\n",
       "      <td>444</td>\n",
       "    </tr>\n",
       "  </tbody>\n",
       "</table>\n",
       "</div>"
      ],
      "text/plain": [
       "            Recency  Frequency  Monetary  R_Quartile  F_Quartile  M_Quartile  \\\n",
       "CustomerID                                                                     \n",
       "18102            72         34  26632.62           4           4           4   \n",
       "17949            70         32  22504.73           4           4           4   \n",
       "17450            70         28  18009.06           4           4           4   \n",
       "16029            80         39  15119.49           4           4           4   \n",
       "16013            70         24  10402.34           4           4           4   \n",
       "12901            81         20   5915.66           4           4           4   \n",
       "13798            72         34   4648.80           4           4           4   \n",
       "17857            72         12   4644.68           4           4           4   \n",
       "13694            71         32   4472.68           4           4           4   \n",
       "15061            73         23   3417.70           4           4           4   \n",
       "\n",
       "           RFMScore  \n",
       "CustomerID           \n",
       "18102           444  \n",
       "17949           444  \n",
       "17450           444  \n",
       "16029           444  \n",
       "16013           444  \n",
       "12901           444  \n",
       "13798           444  \n",
       "17857           444  \n",
       "13694           444  \n",
       "15061           444  "
      ]
     },
     "execution_count": 29,
     "metadata": {},
     "output_type": "execute_result"
    }
   ],
   "source": [
    "rfm_segmentation[rfm_segmentation['RFMScore']=='444'].sort_values('Monetary', ascending=False).head(10)"
   ]
  },
  {
   "cell_type": "markdown",
   "metadata": {
    "_uuid": "d7c791e039e165c528fc762d3d9727af3249c618"
   },
   "source": [
    "We can find [here](http://www.blastam.com/blog/rfm-analysis-boosts-sales) a suggestion of key segments and then we can decide which segment to consider for further study.\n",
    "\n",
    "Note: the suggested link use the opposite valuation: 1 as highest/best score and 4 is the lowest.\n",
    "\n",
    "**How many customers do we have in each segment?**"
   ]
  },
  {
   "cell_type": "code",
   "execution_count": 30,
   "metadata": {
    "_uuid": "239375c3c5e09565eb34ba073f74e0f6681d5058"
   },
   "outputs": [
    {
     "name": "stdout",
     "output_type": "stream",
     "text": [
      "                      Count\n",
      "Metrics                    \n",
      "Best Customers          218\n",
      "Loyal Customers         687\n",
      "Big Spenders            716\n",
      "Almost Lost              52\n",
      "Lost Customers            5\n",
      "Lost Cheap Customers    278\n"
     ]
    }
   ],
   "source": [
    "# print(\"Best Customers: \",len(rfm_segmentation[rfm_segmentation['RFMScore']=='444']))\n",
    "# print('Loyal Customers: ',len(rfm_segmentation[rfm_segmentation['F_Quartile']==4]))\n",
    "# print(\"Big Spenders: \",len(rfm_segmentation[rfm_segmentation['M_Quartile']==4]))\n",
    "# print('Almost Lost: ', len(rfm_segmentation[rfm_segmentation['RFMScore']=='244']))\n",
    "# print('Lost Customers: ',len(rfm_segmentation[rfm_segmentation['RFMScore']=='144']))\n",
    "# print('Lost Cheap Customers: ',len(rfm_segmentation[rfm_segmentation['RFMScore']=='111']))\n",
    "\n",
    "\n",
    "data = {'Metrics': ['Best Customers', 'Loyal Customers', 'Big Spenders', 'Almost Lost', 'Lost Customers', 'Lost Cheap Customers'],\n",
    "        'Count': [len(rfm_segmentation[rfm_segmentation['RFMScore']=='444']),\n",
    "                  len(rfm_segmentation[rfm_segmentation['F_Quartile']==4]),\n",
    "                  len(rfm_segmentation[rfm_segmentation['M_Quartile']==4]),\n",
    "                  len(rfm_segmentation[rfm_segmentation['RFMScore']=='244']),\n",
    "                  len(rfm_segmentation[rfm_segmentation['RFMScore']=='144']),\n",
    "                  len(rfm_segmentation[rfm_segmentation['RFMScore']=='111'])]}\n",
    "\n",
    "df = pd.DataFrame(data)\n",
    "df.set_index('Metrics',inplace=True)\n",
    "print(df)\n",
    "df.to_csv('segments.csv')"
   ]
  },
  {
   "cell_type": "markdown",
   "metadata": {
    "_uuid": "c5f63ac35884a02c4af86d68c0d266de46fd5eb9"
   },
   "source": [
    "Now that we knew our customers segments we can choose how to target or deal with each segment.\n",
    "\n",
    "For example:\n",
    "\n",
    "**Best Customers - Champions**: Reward them. They can be early adopters to new products. Suggest them \"Refer a friend\".\n",
    "\n",
    "**At Risk**: Send them personalized emails to encourage them to shop.\n",
    "\n",
    "More ideas about what actions to perform in [Ometria](http://54.73.114.30/customer-segmentation#)."
   ]
  },
  {
   "cell_type": "code",
   "execution_count": 31,
   "metadata": {},
   "outputs": [],
   "source": [
    "import numpy as np\n",
    "\n",
    "conditions = [\n",
    " (rfm_segmentation['R_Quartile'] >= 4) & (rfm_segmentation['F_Quartile'] >= 4) & (rfm_segmentation['M_Quartile'] >= 4), # 'Best Customers'\n",
    " (rfm_segmentation['R_Quartile'] < 4) & (rfm_segmentation['F_Quartile'] >= 4) & (rfm_segmentation['M_Quartile'] >= 4), # 'Loyal Customers'\n",
    " (rfm_segmentation['R_Quartile'] < 4) & (rfm_segmentation['F_Quartile'] < 4) & (rfm_segmentation['M_Quartile'] >= 4), # 'Big Spenders'\n",
    " (rfm_segmentation['R_Quartile'] > 3) & (rfm_segmentation['F_Quartile'] < 4) & (rfm_segmentation['M_Quartile'] < 4), # 'Almost Lost'\n",
    " (rfm_segmentation['R_Quartile'] < 4) & (rfm_segmentation['F_Quartile'] < 4) & (rfm_segmentation['M_Quartile'] < 4), # 'Lost Customers'\n",
    "]\n",
    "\n",
    "labels = ['Best Customers', 'Loyal Customers', 'Big Spenders', 'Almost Lost', 'Lost Customers']\n",
    "\n",
    "# Assign the labels to the RFM values\n",
    "rfm_segmentation['CustomerSegment'] = np.select(conditions, labels, default='Other')\n"
   ]
  },
  {
   "cell_type": "code",
   "execution_count": 32,
   "metadata": {},
   "outputs": [],
   "source": [
    "rfm_segmentation.to_csv('rfm_segmentation.csv')"
   ]
  },
  {
   "cell_type": "code",
   "execution_count": 33,
   "metadata": {},
   "outputs": [
    {
     "data": {
      "text/plain": [
       "array(['Loyal Customers', 'Best Customers', 'Lost Customers',\n",
       "       'Almost Lost', 'Other', 'Big Spenders'], dtype=object)"
      ]
     },
     "execution_count": 33,
     "metadata": {},
     "output_type": "execute_result"
    }
   ],
   "source": [
    "rfm_segmentation['CustomerSegment'].unique()"
   ]
  },
  {
   "cell_type": "code",
   "execution_count": 34,
   "metadata": {},
   "outputs": [],
   "source": [
    "temp['CustomerSegment'] = rfm_segmentation['CustomerSegment']"
   ]
  },
  {
   "cell_type": "code",
   "execution_count": 35,
   "metadata": {},
   "outputs": [
    {
     "data": {
      "text/html": [
       "<div>\n",
       "<style scoped>\n",
       "    .dataframe tbody tr th:only-of-type {\n",
       "        vertical-align: middle;\n",
       "    }\n",
       "\n",
       "    .dataframe tbody tr th {\n",
       "        vertical-align: top;\n",
       "    }\n",
       "\n",
       "    .dataframe thead th {\n",
       "        text-align: right;\n",
       "    }\n",
       "</style>\n",
       "<table border=\"1\" class=\"dataframe\">\n",
       "  <thead>\n",
       "    <tr style=\"text-align: right;\">\n",
       "      <th></th>\n",
       "      <th>Recency</th>\n",
       "      <th>Frequency</th>\n",
       "      <th>Monetary</th>\n",
       "      <th>CustomerSegment</th>\n",
       "    </tr>\n",
       "    <tr>\n",
       "      <th>CustomerID</th>\n",
       "      <th></th>\n",
       "      <th></th>\n",
       "      <th></th>\n",
       "      <th></th>\n",
       "    </tr>\n",
       "  </thead>\n",
       "  <tbody>\n",
       "    <tr>\n",
       "      <th>12747</th>\n",
       "      <td>109</td>\n",
       "      <td>5</td>\n",
       "      <td>191.85</td>\n",
       "      <td>Loyal Customers</td>\n",
       "    </tr>\n",
       "    <tr>\n",
       "      <th>12748</th>\n",
       "      <td>70</td>\n",
       "      <td>96</td>\n",
       "      <td>1054.43</td>\n",
       "      <td>Best Customers</td>\n",
       "    </tr>\n",
       "    <tr>\n",
       "      <th>12749</th>\n",
       "      <td>130</td>\n",
       "      <td>3</td>\n",
       "      <td>67.00</td>\n",
       "      <td>Lost Customers</td>\n",
       "    </tr>\n",
       "    <tr>\n",
       "      <th>12820</th>\n",
       "      <td>74</td>\n",
       "      <td>1</td>\n",
       "      <td>15.00</td>\n",
       "      <td>Almost Lost</td>\n",
       "    </tr>\n",
       "    <tr>\n",
       "      <th>12821</th>\n",
       "      <td>214</td>\n",
       "      <td>1</td>\n",
       "      <td>19.92</td>\n",
       "      <td>Lost Customers</td>\n",
       "    </tr>\n",
       "    <tr>\n",
       "      <th>...</th>\n",
       "      <td>...</td>\n",
       "      <td>...</td>\n",
       "      <td>...</td>\n",
       "      <td>...</td>\n",
       "    </tr>\n",
       "    <tr>\n",
       "      <th>18280</th>\n",
       "      <td>277</td>\n",
       "      <td>1</td>\n",
       "      <td>23.70</td>\n",
       "      <td>Lost Customers</td>\n",
       "    </tr>\n",
       "    <tr>\n",
       "      <th>18281</th>\n",
       "      <td>180</td>\n",
       "      <td>1</td>\n",
       "      <td>5.04</td>\n",
       "      <td>Lost Customers</td>\n",
       "    </tr>\n",
       "    <tr>\n",
       "      <th>18282</th>\n",
       "      <td>126</td>\n",
       "      <td>1</td>\n",
       "      <td>12.75</td>\n",
       "      <td>Lost Customers</td>\n",
       "    </tr>\n",
       "    <tr>\n",
       "      <th>18283</th>\n",
       "      <td>95</td>\n",
       "      <td>7</td>\n",
       "      <td>35.95</td>\n",
       "      <td>Other</td>\n",
       "    </tr>\n",
       "    <tr>\n",
       "      <th>18287</th>\n",
       "      <td>201</td>\n",
       "      <td>1</td>\n",
       "      <td>10.20</td>\n",
       "      <td>Lost Customers</td>\n",
       "    </tr>\n",
       "  </tbody>\n",
       "</table>\n",
       "<p>2864 rows × 4 columns</p>\n",
       "</div>"
      ],
      "text/plain": [
       "            Recency  Frequency  Monetary  CustomerSegment\n",
       "CustomerID                                               \n",
       "12747           109          5    191.85  Loyal Customers\n",
       "12748            70         96   1054.43   Best Customers\n",
       "12749           130          3     67.00   Lost Customers\n",
       "12820            74          1     15.00      Almost Lost\n",
       "12821           214          1     19.92   Lost Customers\n",
       "...             ...        ...       ...              ...\n",
       "18280           277          1     23.70   Lost Customers\n",
       "18281           180          1      5.04   Lost Customers\n",
       "18282           126          1     12.75   Lost Customers\n",
       "18283            95          7     35.95            Other\n",
       "18287           201          1     10.20   Lost Customers\n",
       "\n",
       "[2864 rows x 4 columns]"
      ]
     },
     "execution_count": 35,
     "metadata": {},
     "output_type": "execute_result"
    }
   ],
   "source": [
    "temp"
   ]
  },
  {
   "cell_type": "code",
   "execution_count": 36,
   "metadata": {},
   "outputs": [],
   "source": [
    "temp.to_csv('finalData.csv')"
   ]
  },
  {
   "cell_type": "code",
   "execution_count": 37,
   "metadata": {},
   "outputs": [
    {
     "data": {
      "text/plain": [
       "array(['Loyal Customers', 'Best Customers', 'Lost Customers',\n",
       "       'Almost Lost', 'Other', 'Big Spenders'], dtype=object)"
      ]
     },
     "execution_count": 37,
     "metadata": {},
     "output_type": "execute_result"
    }
   ],
   "source": [
    "temp['CustomerSegment'].unique()"
   ]
  },
  {
   "cell_type": "code",
   "execution_count": null,
   "metadata": {},
   "outputs": [],
   "source": []
  },
  {
   "cell_type": "markdown",
   "metadata": {},
   "source": [
    "## Creating AN ANN\n"
   ]
  },
  {
   "cell_type": "markdown",
   "metadata": {},
   "source": []
  },
  {
   "cell_type": "code",
   "execution_count": 38,
   "metadata": {},
   "outputs": [],
   "source": [
    "from sklearn.preprocessing import LabelEncoder\n",
    "\n",
    "# Assuming df is your DataFrame and it includes the column 'CustomerSegment'\n",
    "le = LabelEncoder()\n",
    "temp['CustomerSegment'] = le.fit_transform(temp['CustomerSegment'])\n"
   ]
  },
  {
   "cell_type": "code",
   "execution_count": 39,
   "metadata": {},
   "outputs": [],
   "source": [
    "from sklearn.model_selection import train_test_split\n",
    "\n",
    "X = temp.drop('CustomerSegment', axis=1) # Features\n",
    "y = temp['CustomerSegment'] # Target variable\n",
    "\n",
    "X_train, X_test, y_train, y_test = train_test_split(X, y, test_size=0.2, random_state=42)\n",
    "\n",
    "from keras.utils import to_categorical\n",
    "\n",
    "# One-hot encode the target variable\n",
    "y_train = to_categorical(y_train, num_classes=6)\n",
    "y_test = to_categorical(y_test, num_classes=6)\n",
    "\n"
   ]
  },
  {
   "cell_type": "code",
   "execution_count": 40,
   "metadata": {},
   "outputs": [
    {
     "ename": "AttributeError",
     "evalue": "'numpy.ndarray' object has no attribute 'unique'",
     "output_type": "error",
     "traceback": [
      "\u001b[1;31m---------------------------------------------------------------------------\u001b[0m",
      "\u001b[1;31mAttributeError\u001b[0m                            Traceback (most recent call last)",
      "Cell \u001b[1;32mIn[40], line 1\u001b[0m\n\u001b[1;32m----> 1\u001b[0m \u001b[43my_train\u001b[49m\u001b[38;5;241;43m.\u001b[39;49m\u001b[43munique\u001b[49m()\n",
      "\u001b[1;31mAttributeError\u001b[0m: 'numpy.ndarray' object has no attribute 'unique'"
     ]
    }
   ],
   "source": [
    "y_train.unique()"
   ]
  },
  {
   "cell_type": "code",
   "execution_count": 41,
   "metadata": {},
   "outputs": [
    {
     "name": "stdout",
     "output_type": "stream",
     "text": [
      "Epoch 1/150\n",
      "230/230 [==============================] - 2s 3ms/step - loss: 26.4381 - accuracy: 0.0262\n",
      "Epoch 2/150\n",
      "230/230 [==============================] - 1s 4ms/step - loss: 3.7924 - accuracy: 0.4609\n",
      "Epoch 3/150\n",
      "230/230 [==============================] - 1s 4ms/step - loss: 1.6429 - accuracy: 0.6268\n",
      "Epoch 4/150\n",
      "230/230 [==============================] - 1s 4ms/step - loss: 1.3743 - accuracy: 0.6530\n",
      "Epoch 5/150\n",
      "230/230 [==============================] - 1s 3ms/step - loss: 2.6777 - accuracy: 0.6504\n",
      "Epoch 6/150\n",
      "230/230 [==============================] - 1s 3ms/step - loss: 1.1836 - accuracy: 0.6643\n",
      "Epoch 7/150\n",
      "230/230 [==============================] - 1s 4ms/step - loss: 1.6952 - accuracy: 0.6569\n",
      "Epoch 8/150\n",
      "230/230 [==============================] - 1s 3ms/step - loss: 1.4522 - accuracy: 0.6648\n",
      "Epoch 9/150\n",
      "230/230 [==============================] - 1s 3ms/step - loss: 0.9797 - accuracy: 0.6801\n",
      "Epoch 10/150\n",
      "230/230 [==============================] - 1s 3ms/step - loss: 2.0940 - accuracy: 0.6748\n",
      "Epoch 11/150\n",
      "230/230 [==============================] - 1s 3ms/step - loss: 0.6863 - accuracy: 0.7141\n",
      "Epoch 12/150\n",
      "230/230 [==============================] - 1s 3ms/step - loss: 1.1321 - accuracy: 0.6966\n",
      "Epoch 13/150\n",
      "230/230 [==============================] - 1s 3ms/step - loss: 3.0729 - accuracy: 0.6766\n",
      "Epoch 14/150\n",
      "230/230 [==============================] - 1s 3ms/step - loss: 2.7742 - accuracy: 0.6901\n",
      "Epoch 15/150\n",
      "230/230 [==============================] - 1s 3ms/step - loss: 2.5065 - accuracy: 0.6979\n",
      "Epoch 16/150\n",
      "230/230 [==============================] - 1s 4ms/step - loss: 1.0867 - accuracy: 0.7407\n",
      "Epoch 17/150\n",
      "230/230 [==============================] - 1s 4ms/step - loss: 1.1633 - accuracy: 0.7333\n",
      "Epoch 18/150\n",
      "230/230 [==============================] - 1s 3ms/step - loss: 1.8492 - accuracy: 0.7145\n",
      "Epoch 19/150\n",
      "230/230 [==============================] - 1s 3ms/step - loss: 1.8518 - accuracy: 0.7477\n",
      "Epoch 20/150\n",
      "230/230 [==============================] - 1s 3ms/step - loss: 1.0630 - accuracy: 0.7617\n",
      "Epoch 21/150\n",
      "230/230 [==============================] - 1s 4ms/step - loss: 2.7788 - accuracy: 0.7368\n",
      "Epoch 22/150\n",
      "230/230 [==============================] - 1s 4ms/step - loss: 1.1951 - accuracy: 0.7735\n",
      "Epoch 23/150\n",
      "230/230 [==============================] - 1s 3ms/step - loss: 0.5877 - accuracy: 0.7935\n",
      "Epoch 24/150\n",
      "230/230 [==============================] - 1s 3ms/step - loss: 1.6133 - accuracy: 0.7818\n",
      "Epoch 25/150\n",
      "230/230 [==============================] - 1s 3ms/step - loss: 1.7592 - accuracy: 0.7866\n",
      "Epoch 26/150\n",
      "230/230 [==============================] - 1s 3ms/step - loss: 1.9075 - accuracy: 0.7909\n",
      "Epoch 27/150\n",
      "230/230 [==============================] - 1s 3ms/step - loss: 1.3250 - accuracy: 0.7935\n",
      "Epoch 28/150\n",
      "230/230 [==============================] - 1s 3ms/step - loss: 1.3799 - accuracy: 0.7931\n",
      "Epoch 29/150\n",
      "230/230 [==============================] - 1s 4ms/step - loss: 1.5025 - accuracy: 0.8132\n",
      "Epoch 30/150\n",
      "230/230 [==============================] - 1s 3ms/step - loss: 0.5197 - accuracy: 0.8320\n",
      "Epoch 31/150\n",
      "230/230 [==============================] - 1s 3ms/step - loss: 0.6655 - accuracy: 0.8468\n",
      "Epoch 32/150\n",
      "230/230 [==============================] - 1s 3ms/step - loss: 0.6762 - accuracy: 0.8385\n",
      "Epoch 33/150\n",
      "230/230 [==============================] - 1s 3ms/step - loss: 0.5428 - accuracy: 0.8507\n",
      "Epoch 34/150\n",
      "230/230 [==============================] - 1s 3ms/step - loss: 0.5767 - accuracy: 0.8533\n",
      "Epoch 35/150\n",
      "230/230 [==============================] - 1s 3ms/step - loss: 1.9300 - accuracy: 0.8180\n",
      "Epoch 36/150\n",
      "230/230 [==============================] - 1s 3ms/step - loss: 1.2707 - accuracy: 0.8346\n",
      "Epoch 37/150\n",
      "230/230 [==============================] - 1s 4ms/step - loss: 1.6818 - accuracy: 0.8215\n",
      "Epoch 38/150\n",
      "230/230 [==============================] - 1s 4ms/step - loss: 1.3147 - accuracy: 0.8324\n",
      "Epoch 39/150\n",
      "230/230 [==============================] - 1s 4ms/step - loss: 0.4054 - accuracy: 0.8629\n",
      "Epoch 40/150\n",
      "230/230 [==============================] - 1s 4ms/step - loss: 1.1214 - accuracy: 0.8708\n",
      "Epoch 41/150\n",
      "230/230 [==============================] - 1s 4ms/step - loss: 1.0173 - accuracy: 0.8468\n",
      "Epoch 42/150\n",
      "230/230 [==============================] - 1s 4ms/step - loss: 2.2115 - accuracy: 0.8429\n",
      "Epoch 43/150\n",
      "230/230 [==============================] - 1s 4ms/step - loss: 0.4240 - accuracy: 0.8734\n",
      "Epoch 44/150\n",
      "230/230 [==============================] - 1s 4ms/step - loss: 2.3145 - accuracy: 0.8241\n",
      "Epoch 45/150\n",
      "230/230 [==============================] - 1s 4ms/step - loss: 1.4711 - accuracy: 0.8429\n",
      "Epoch 46/150\n",
      "230/230 [==============================] - 1s 3ms/step - loss: 0.4048 - accuracy: 0.8804\n",
      "Epoch 47/150\n",
      "230/230 [==============================] - 1s 3ms/step - loss: 1.4754 - accuracy: 0.8581\n",
      "Epoch 48/150\n",
      "230/230 [==============================] - 1s 3ms/step - loss: 1.4002 - accuracy: 0.8625\n",
      "Epoch 49/150\n",
      "230/230 [==============================] - 1s 4ms/step - loss: 0.9267 - accuracy: 0.8656\n",
      "Epoch 50/150\n",
      "230/230 [==============================] - 1s 3ms/step - loss: 0.5204 - accuracy: 0.8891\n",
      "Epoch 51/150\n",
      "230/230 [==============================] - 1s 4ms/step - loss: 1.5000 - accuracy: 0.8664\n",
      "Epoch 52/150\n",
      "230/230 [==============================] - 1s 4ms/step - loss: 0.3875 - accuracy: 0.8935\n",
      "Epoch 53/150\n",
      "230/230 [==============================] - 1s 3ms/step - loss: 1.2245 - accuracy: 0.8730\n",
      "Epoch 54/150\n",
      "230/230 [==============================] - 1s 3ms/step - loss: 0.5546 - accuracy: 0.8948\n",
      "Epoch 55/150\n",
      "230/230 [==============================] - 1s 3ms/step - loss: 0.2780 - accuracy: 0.9110\n",
      "Epoch 56/150\n",
      "230/230 [==============================] - 1s 3ms/step - loss: 1.4850 - accuracy: 0.8743\n",
      "Epoch 57/150\n",
      "230/230 [==============================] - 1s 3ms/step - loss: 1.5570 - accuracy: 0.8520\n",
      "Epoch 58/150\n",
      "230/230 [==============================] - 1s 3ms/step - loss: 1.0035 - accuracy: 0.8529\n",
      "Epoch 59/150\n",
      "230/230 [==============================] - 1s 3ms/step - loss: 2.1159 - accuracy: 0.8603\n",
      "Epoch 60/150\n",
      "230/230 [==============================] - 1s 3ms/step - loss: 1.3721 - accuracy: 0.8647\n",
      "Epoch 61/150\n",
      "230/230 [==============================] - 1s 3ms/step - loss: 1.4269 - accuracy: 0.8695\n",
      "Epoch 62/150\n",
      "230/230 [==============================] - 1s 3ms/step - loss: 1.8057 - accuracy: 0.8712\n",
      "Epoch 63/150\n",
      "230/230 [==============================] - 1s 3ms/step - loss: 1.0032 - accuracy: 0.8909\n",
      "Epoch 64/150\n",
      "230/230 [==============================] - 1s 3ms/step - loss: 0.7380 - accuracy: 0.8795\n",
      "Epoch 65/150\n",
      "230/230 [==============================] - 1s 3ms/step - loss: 0.5913 - accuracy: 0.8935\n",
      "Epoch 66/150\n",
      "230/230 [==============================] - 1s 3ms/step - loss: 0.5639 - accuracy: 0.8887\n",
      "Epoch 67/150\n",
      "230/230 [==============================] - 1s 3ms/step - loss: 1.1875 - accuracy: 0.8909\n",
      "Epoch 68/150\n",
      "230/230 [==============================] - 1s 3ms/step - loss: 0.3952 - accuracy: 0.9018\n",
      "Epoch 69/150\n",
      "230/230 [==============================] - 1s 3ms/step - loss: 0.2668 - accuracy: 0.9254\n",
      "Epoch 70/150\n",
      "230/230 [==============================] - 1s 3ms/step - loss: 1.3148 - accuracy: 0.8974\n",
      "Epoch 71/150\n",
      "230/230 [==============================] - 1s 3ms/step - loss: 0.4295 - accuracy: 0.9140\n",
      "Epoch 72/150\n",
      "230/230 [==============================] - 1s 3ms/step - loss: 1.0919 - accuracy: 0.8987\n",
      "Epoch 73/150\n",
      "230/230 [==============================] - 1s 3ms/step - loss: 1.2941 - accuracy: 0.8865\n",
      "Epoch 74/150\n",
      "230/230 [==============================] - 1s 3ms/step - loss: 0.2779 - accuracy: 0.9088\n",
      "Epoch 75/150\n",
      "230/230 [==============================] - 1s 3ms/step - loss: 1.0297 - accuracy: 0.8843\n",
      "Epoch 76/150\n",
      "230/230 [==============================] - 1s 3ms/step - loss: 0.4017 - accuracy: 0.9110\n",
      "Epoch 77/150\n",
      "230/230 [==============================] - 1s 3ms/step - loss: 0.2955 - accuracy: 0.9262\n",
      "Epoch 78/150\n",
      "230/230 [==============================] - 1s 3ms/step - loss: 0.4236 - accuracy: 0.9171\n",
      "Epoch 79/150\n",
      "230/230 [==============================] - 1s 3ms/step - loss: 0.4615 - accuracy: 0.9236\n",
      "Epoch 80/150\n",
      "230/230 [==============================] - 1s 3ms/step - loss: 0.5363 - accuracy: 0.9031\n",
      "Epoch 81/150\n",
      "230/230 [==============================] - 1s 3ms/step - loss: 1.6314 - accuracy: 0.8987\n",
      "Epoch 82/150\n",
      "230/230 [==============================] - 1s 3ms/step - loss: 0.8552 - accuracy: 0.8983\n",
      "Epoch 83/150\n",
      "230/230 [==============================] - 1s 3ms/step - loss: 1.0528 - accuracy: 0.8904\n",
      "Epoch 84/150\n",
      "230/230 [==============================] - 1s 3ms/step - loss: 0.7405 - accuracy: 0.8970\n",
      "Epoch 85/150\n",
      "230/230 [==============================] - 1s 3ms/step - loss: 0.4410 - accuracy: 0.9144\n",
      "Epoch 86/150\n",
      "230/230 [==============================] - 1s 3ms/step - loss: 0.9111 - accuracy: 0.9009\n",
      "Epoch 87/150\n",
      "230/230 [==============================] - 1s 3ms/step - loss: 0.6103 - accuracy: 0.9057\n",
      "Epoch 88/150\n",
      "230/230 [==============================] - 1s 4ms/step - loss: 0.7516 - accuracy: 0.8979\n",
      "Epoch 89/150\n",
      "230/230 [==============================] - 1s 3ms/step - loss: 0.8165 - accuracy: 0.9048\n",
      "Epoch 90/150\n",
      "230/230 [==============================] - 1s 4ms/step - loss: 0.7795 - accuracy: 0.9201\n",
      "Epoch 91/150\n",
      "230/230 [==============================] - 1s 4ms/step - loss: 0.3079 - accuracy: 0.9214\n",
      "Epoch 92/150\n",
      "230/230 [==============================] - 1s 4ms/step - loss: 0.4055 - accuracy: 0.9166\n",
      "Epoch 93/150\n",
      "230/230 [==============================] - 1s 4ms/step - loss: 0.6214 - accuracy: 0.9232\n",
      "Epoch 94/150\n",
      "230/230 [==============================] - 1s 4ms/step - loss: 1.0582 - accuracy: 0.9048\n",
      "Epoch 95/150\n",
      "230/230 [==============================] - 1s 4ms/step - loss: 0.6864 - accuracy: 0.9153\n",
      "Epoch 96/150\n",
      "230/230 [==============================] - 1s 3ms/step - loss: 0.7504 - accuracy: 0.9171\n",
      "Epoch 97/150\n",
      "230/230 [==============================] - 1s 4ms/step - loss: 0.2088 - accuracy: 0.9402\n",
      "Epoch 98/150\n",
      "230/230 [==============================] - 1s 4ms/step - loss: 0.5212 - accuracy: 0.9092\n",
      "Epoch 99/150\n",
      "230/230 [==============================] - 1s 4ms/step - loss: 0.8088 - accuracy: 0.9118\n",
      "Epoch 100/150\n",
      "230/230 [==============================] - 1s 4ms/step - loss: 0.3035 - accuracy: 0.8966\n",
      "Epoch 101/150\n",
      "230/230 [==============================] - 1s 4ms/step - loss: 0.2373 - accuracy: 0.9171\n",
      "Epoch 102/150\n",
      "230/230 [==============================] - 1s 3ms/step - loss: 0.2122 - accuracy: 0.9236\n",
      "Epoch 103/150\n",
      "230/230 [==============================] - 1s 3ms/step - loss: 0.1996 - accuracy: 0.9385\n",
      "Epoch 104/150\n",
      "230/230 [==============================] - 1s 4ms/step - loss: 0.1901 - accuracy: 0.9328\n",
      "Epoch 105/150\n",
      "230/230 [==============================] - 1s 4ms/step - loss: 0.1859 - accuracy: 0.9358\n",
      "Epoch 106/150\n",
      "230/230 [==============================] - 1s 4ms/step - loss: 0.1822 - accuracy: 0.9376\n",
      "Epoch 107/150\n",
      "230/230 [==============================] - 1s 3ms/step - loss: 0.1975 - accuracy: 0.9315\n",
      "Epoch 108/150\n",
      "230/230 [==============================] - 1s 3ms/step - loss: 0.2127 - accuracy: 0.9310\n",
      "Epoch 109/150\n",
      "230/230 [==============================] - 1s 4ms/step - loss: 0.2129 - accuracy: 0.9223\n",
      "Epoch 110/150\n",
      "230/230 [==============================] - 1s 3ms/step - loss: 0.1955 - accuracy: 0.9328\n",
      "Epoch 111/150\n",
      "230/230 [==============================] - 1s 3ms/step - loss: 0.1900 - accuracy: 0.9358\n",
      "Epoch 112/150\n",
      "230/230 [==============================] - 1s 3ms/step - loss: 0.1799 - accuracy: 0.9385\n",
      "Epoch 113/150\n",
      "230/230 [==============================] - 1s 3ms/step - loss: 0.2518 - accuracy: 0.9175\n",
      "Epoch 114/150\n",
      "230/230 [==============================] - 1s 3ms/step - loss: 0.2262 - accuracy: 0.9179\n",
      "Epoch 115/150\n",
      "230/230 [==============================] - 1s 3ms/step - loss: 0.2068 - accuracy: 0.9302\n",
      "Epoch 116/150\n",
      "230/230 [==============================] - 1s 3ms/step - loss: 0.1867 - accuracy: 0.9319\n",
      "Epoch 117/150\n",
      "230/230 [==============================] - 1s 3ms/step - loss: 0.1834 - accuracy: 0.9350\n",
      "Epoch 118/150\n",
      "230/230 [==============================] - 1s 3ms/step - loss: 0.1812 - accuracy: 0.9433\n",
      "Epoch 119/150\n",
      "230/230 [==============================] - 1s 3ms/step - loss: 0.1802 - accuracy: 0.9319\n",
      "Epoch 120/150\n",
      "230/230 [==============================] - 1s 3ms/step - loss: 0.1910 - accuracy: 0.9350\n",
      "Epoch 121/150\n",
      "230/230 [==============================] - 1s 3ms/step - loss: 0.1751 - accuracy: 0.9411\n",
      "Epoch 122/150\n",
      "230/230 [==============================] - 1s 4ms/step - loss: 0.1781 - accuracy: 0.9358\n",
      "Epoch 123/150\n",
      "230/230 [==============================] - 1s 4ms/step - loss: 0.1727 - accuracy: 0.9393\n",
      "Epoch 124/150\n",
      "230/230 [==============================] - 1s 3ms/step - loss: 0.1774 - accuracy: 0.9367\n",
      "Epoch 125/150\n",
      "230/230 [==============================] - 1s 3ms/step - loss: 0.1804 - accuracy: 0.9393\n",
      "Epoch 126/150\n",
      "230/230 [==============================] - 1s 3ms/step - loss: 0.1689 - accuracy: 0.9437\n",
      "Epoch 127/150\n",
      "230/230 [==============================] - 1s 3ms/step - loss: 0.1657 - accuracy: 0.9411\n",
      "Epoch 128/150\n",
      "230/230 [==============================] - 1s 3ms/step - loss: 0.1978 - accuracy: 0.9345\n",
      "Epoch 129/150\n",
      "230/230 [==============================] - 1s 3ms/step - loss: 0.1858 - accuracy: 0.9345\n",
      "Epoch 130/150\n",
      "230/230 [==============================] - 1s 3ms/step - loss: 0.1743 - accuracy: 0.9385\n",
      "Epoch 131/150\n",
      "230/230 [==============================] - 1s 3ms/step - loss: 0.1661 - accuracy: 0.9437\n",
      "Epoch 132/150\n",
      "230/230 [==============================] - 1s 3ms/step - loss: 0.2019 - accuracy: 0.9302\n",
      "Epoch 133/150\n",
      "230/230 [==============================] - 1s 3ms/step - loss: 0.1661 - accuracy: 0.9402\n",
      "Epoch 134/150\n",
      "230/230 [==============================] - 1s 4ms/step - loss: 0.1728 - accuracy: 0.9446\n",
      "Epoch 135/150\n",
      "230/230 [==============================] - 1s 4ms/step - loss: 0.1741 - accuracy: 0.9446\n",
      "Epoch 136/150\n",
      "230/230 [==============================] - 1s 3ms/step - loss: 0.1838 - accuracy: 0.9306\n",
      "Epoch 137/150\n",
      "230/230 [==============================] - 1s 3ms/step - loss: 0.1652 - accuracy: 0.9463\n",
      "Epoch 138/150\n",
      "230/230 [==============================] - 1s 4ms/step - loss: 0.2299 - accuracy: 0.9158\n",
      "Epoch 139/150\n",
      "230/230 [==============================] - 1s 3ms/step - loss: 0.2058 - accuracy: 0.9354\n",
      "Epoch 140/150\n",
      "230/230 [==============================] - 1s 4ms/step - loss: 0.1883 - accuracy: 0.9341\n",
      "Epoch 141/150\n",
      "230/230 [==============================] - 1s 3ms/step - loss: 0.1760 - accuracy: 0.9315\n",
      "Epoch 142/150\n",
      "230/230 [==============================] - 1s 3ms/step - loss: 0.1715 - accuracy: 0.9385\n",
      "Epoch 143/150\n",
      "230/230 [==============================] - 1s 3ms/step - loss: 0.1560 - accuracy: 0.9472\n",
      "Epoch 144/150\n",
      "230/230 [==============================] - 1s 3ms/step - loss: 0.1535 - accuracy: 0.9529\n",
      "Epoch 145/150\n",
      "230/230 [==============================] - 1s 3ms/step - loss: 0.1603 - accuracy: 0.9415\n",
      "Epoch 146/150\n",
      "230/230 [==============================] - 1s 3ms/step - loss: 0.1913 - accuracy: 0.9376\n",
      "Epoch 147/150\n",
      "230/230 [==============================] - 1s 3ms/step - loss: 0.1605 - accuracy: 0.9393\n",
      "Epoch 148/150\n",
      "230/230 [==============================] - 1s 3ms/step - loss: 0.1562 - accuracy: 0.9411\n",
      "Epoch 149/150\n",
      "230/230 [==============================] - 1s 3ms/step - loss: 0.1949 - accuracy: 0.9289\n",
      "Epoch 150/150\n",
      "230/230 [==============================] - 1s 3ms/step - loss: 0.1594 - accuracy: 0.9428\n",
      "18/18 [==============================] - 1s 4ms/step - loss: 0.1711 - accuracy: 0.9215\n",
      "Accuracy: 92.15\n"
     ]
    }
   ],
   "source": [
    "from keras.models import Sequential\n",
    "from keras.layers import Dense\n",
    "\n",
    "# Initialize the constructor\n",
    "model = Sequential()\n",
    "\n",
    "# Add an input layer \n",
    "model.add(Dense(12, activation='relu', input_shape=(X_train.shape[1],)))\n",
    "\n",
    "# Add one hidden layer \n",
    "model.add(Dense(8, activation='relu'))\n",
    "\n",
    "# Add an output layer \n",
    "model.add(Dense(6, activation='softmax'))\n",
    "\n",
    "# Compile the model\n",
    "model.compile(loss='categorical_crossentropy', optimizer='adam', metrics=['accuracy'])\n",
    "\n",
    "model.fit(X_train, y_train, epochs=150, batch_size=10)\n",
    "\n",
    "loss, accuracy = model.evaluate(X_test, y_test)\n",
    "print('Accuracy: %.2f' % (accuracy*100))\n"
   ]
  },
  {
   "cell_type": "code",
   "execution_count": null,
   "metadata": {},
   "outputs": [
    {
     "name": "stdout",
     "output_type": "stream",
     "text": [
      "18/18 [==============================] - 0s 5ms/step\n"
     ]
    },
    {
     "data": {
      "text/plain": [
       "array([[8.48637439e-16, 6.03238177e-16, 1.51782657e-03, 9.93354321e-01,\n",
       "        7.09179221e-05, 5.05683199e-03],\n",
       "       [8.58955245e-05, 3.68134620e-11, 1.12741945e-04, 9.99691367e-01,\n",
       "        1.48436030e-07, 1.09886256e-04],\n",
       "       [2.54962765e-06, 5.63867157e-04, 9.15589392e-01, 8.94599408e-03,\n",
       "        4.82141040e-02, 2.66840756e-02],\n",
       "       ...,\n",
       "       [1.15622190e-09, 7.05876353e-21, 1.96463816e-07, 9.99999642e-01,\n",
       "        3.08132995e-13, 6.00761183e-08],\n",
       "       [1.61367529e-21, 9.45746541e-01, 1.05984952e-06, 1.43309058e-17,\n",
       "        5.40156141e-02, 2.36747874e-04],\n",
       "       [0.00000000e+00, 9.68919337e-01, 1.78014714e-09, 0.00000000e+00,\n",
       "        3.10804658e-02, 2.18157922e-07]], dtype=float32)"
      ]
     },
     "execution_count": 150,
     "metadata": {},
     "output_type": "execute_result"
    }
   ],
   "source": [
    "# Generate predictions for the test data\n",
    "predictions = model.predict(X_test)\n",
    "predictions"
   ]
  },
  {
   "cell_type": "code",
   "execution_count": null,
   "metadata": {},
   "outputs": [],
   "source": []
  }
 ],
 "metadata": {
  "kaggle": {
   "accelerator": "none",
   "dataSources": [
    {
     "datasetId": 1985,
     "sourceId": 3404,
     "sourceType": "datasetVersion"
    }
   ],
   "dockerImageVersionId": 46,
   "isGpuEnabled": false,
   "isInternetEnabled": false,
   "language": "python",
   "sourceType": "notebook"
  },
  "kernelspec": {
   "display_name": "Python 3 (ipykernel)",
   "language": "python",
   "name": "python3"
  },
  "language_info": {
   "codemirror_mode": {
    "name": "ipython",
    "version": 3
   },
   "file_extension": ".py",
   "mimetype": "text/x-python",
   "name": "python",
   "nbconvert_exporter": "python",
   "pygments_lexer": "ipython3",
   "version": "3.10.13"
  }
 },
 "nbformat": 4,
 "nbformat_minor": 4
}
